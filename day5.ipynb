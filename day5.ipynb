{
 "cells": [
  {
   "cell_type": "code",
   "execution_count": 2,
   "metadata": {},
   "outputs": [
    {
     "name": "stdout",
     "output_type": "stream",
     "text": [
      "['ram', 'raj', 'kamal', 'karthik', 'kishan', 'kusum']\n"
     ]
    }
   ],
   "source": [
    "myfrnds=['ram','raj','kamal','karthik','kishan','kusum']\n",
    "print(myfrnds)"
   ]
  },
  {
   "cell_type": "code",
   "execution_count": 3,
   "metadata": {},
   "outputs": [
    {
     "name": "stdout",
     "output_type": "stream",
     "text": [
      "ram\n",
      "raj\n",
      "kamal\n",
      "karthik\n",
      "kishan\n",
      "kusum\n"
     ]
    }
   ],
   "source": [
    "for names in myfrnds:\n",
    "    print(names)"
   ]
  },
  {
   "cell_type": "code",
   "execution_count": 22,
   "metadata": {},
   "outputs": [
    {
     "name": "stdout",
     "output_type": "stream",
     "text": [
      "ram\n",
      "we found your bestie\n",
      "raj\n",
      "your friend not found\n",
      "kamal\n",
      "your friend not found\n",
      "karthik\n",
      "your friend not found\n",
      "kishan\n",
      "your friend not found\n",
      "kusum\n",
      "your friend not found\n"
     ]
    }
   ],
   "source": [
    "for name in myfrnds:\n",
    "    print(name)\n",
    "    if(name=='ram'):\n",
    "        print(\"we found your bestie\")\n",
    "    else:\n",
    "        print (\"your friend not found\")"
   ]
  },
  {
   "cell_type": "code",
   "execution_count": 32,
   "metadata": {},
   "outputs": [
    {
     "name": "stdout",
     "output_type": "stream",
     "text": [
      "0\n",
      "1\n",
      "2\n",
      "3\n",
      "we found your name\n",
      "4\n",
      "5\n",
      "6\n",
      "7\n",
      "8\n",
      "9\n"
     ]
    }
   ],
   "source": [
    "for name in range(10):\n",
    "    print(name)\n",
    "    if name==3:\n",
    "        print(\"we found your name\")\n",
    "        continue\n",
    "        print (\"your friend not found\")"
   ]
  }
 ],
 "metadata": {
  "kernelspec": {
   "display_name": "Python 3",
   "language": "python",
   "name": "python3"
  },
  "language_info": {
   "codemirror_mode": {
    "name": "ipython",
    "version": 3
   },
   "file_extension": ".py",
   "mimetype": "text/x-python",
   "name": "python",
   "nbconvert_exporter": "python",
   "pygments_lexer": "ipython3",
   "version": "3.7.4"
  }
 },
 "nbformat": 4,
 "nbformat_minor": 2
}
